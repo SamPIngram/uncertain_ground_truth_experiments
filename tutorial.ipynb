{
  "cells": [
    {
      "cell_type": "markdown",
      "metadata": {
        "id": "view-in-github",
        "colab_type": "text"
      },
      "source": [
        "<a href=\"https://colab.research.google.com/github/SamPIngram/uncertain_ground_truth_experiments/blob/main/tutorial.ipynb\" target=\"_parent\"><img src=\"https://colab.research.google.com/assets/colab-badge.svg\" alt=\"Open In Colab\"/></a>"
      ]
    },
    {
      "cell_type": "markdown",
      "source": [],
      "metadata": {
        "id": "Qdz9MGfjxdN9"
      }
    },
    {
      "cell_type": "markdown",
      "metadata": {
        "id": "mpI_JHDWxD_K"
      },
      "source": [
        "# Evaluation and calibration with uncertain ground truth\n",
        "\n",
        "This tutorial goes through Google DeepMind's [Uncertain Ground Truth (UGT)](https://github.com/google-deepmind/uncertain_ground_truth) framework for evaluating and calibrating machine learning models under uncertain ground truth. The tutorial is based on the paper [Conformal prediction under ambiguous ground truth](https://openreview.net/forum?id=CAd6V2qXxc) [1] and the case study [Evaluating AI systems under uncertain ground truth: a case study in dermatology](https://arxiv.org/abs/2307.02191) [2].\n",
        "\n",
        "The tutorial will look to explain how the approach can be used to other experimental settings, and how it can be used to evaluate and calibrate machine learning models. For ease it can be run in colab (click below) or you can run the setup commands in the terminal within a virtual enviroment."
      ]
    },
    {
      "cell_type": "markdown",
      "source": [
        "# 1. Setup"
      ],
      "metadata": {
        "id": "HnnRHx0KyCgZ"
      }
    },
    {
      "cell_type": "code",
      "execution_count": null,
      "metadata": {
        "id": "1Dd3fwt3xD_M"
      },
      "outputs": [],
      "source": [
        "!git clone https://github.com/google-deepmind/uncertain_ground_truth.git\n",
        "!pip install tensorflow tensorflow-datasets absl-py scikit-learn jax jupyter matplotlib\n",
        "!cd uncertain_ground_truth && python -m unittest discover -s . -p '*_test.py'"
      ]
    }
  ],
  "metadata": {
    "language_info": {
      "name": "python"
    },
    "colab": {
      "provenance": [],
      "include_colab_link": true
    },
    "kernelspec": {
      "name": "python3",
      "display_name": "Python 3"
    }
  },
  "nbformat": 4,
  "nbformat_minor": 0
}